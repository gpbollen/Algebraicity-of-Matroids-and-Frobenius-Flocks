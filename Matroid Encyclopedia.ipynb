{
 "cells": [
  {
   "cell_type": "code",
   "execution_count": 1,
   "metadata": {
    "collapsed": true
   },
   "outputs": [],
   "source": [
    "path = \"/media/sf_SageShared/fromScratch/\""
   ]
  },
  {
   "cell_type": "code",
   "execution_count": 2,
   "metadata": {
    "collapsed": true
   },
   "outputs": [],
   "source": [
    "M = load(path + \"matroidEncyclopediaEmpty_part1.sobj\")\n",
    "M2 = load(path + \"matroidEncyclopediaEmpty_part2.sobj\")\n",
    "M.update(M2)\n",
    "#loads the empty Matroid Encyclopedia, including minor relations and circuit-hyperplane relaxation relations."
   ]
  },
  {
   "cell_type": "code",
   "execution_count": 3,
   "metadata": {
    "collapsed": false
   },
   "outputs": [],
   "source": [
    "def kDual(k):\n",
    "    return (k[1]-k[0],k[1])\n",
    "def kDel(k):\n",
    "    return (k[0],k[1]-1)\n",
    "def kCon(k):\n",
    "    return (k[0]-1,k[1]-1)\n",
    "\n",
    "def addProperty(E,A,val,certificate=False):\n",
    "    if A in E:\n",
    "        if not E[A] == val:\n",
    "            print \"error!\", k, mi, A, val, E[A]\n",
    "    else:\n",
    "        E[A] = val\n",
    "        if certificate != False:\n",
    "            E[A + \" certificate\"] = certificate\n",
    "\n",
    "def AimpliesB(A,B):\n",
    "    for k in M:\n",
    "        for mi in M[k]:\n",
    "            E = M[k][mi]\n",
    "            if A in E and E[A]:\n",
    "                addProperty(E,B,True,A)\n",
    "            elif B in E and not E[B]:\n",
    "                addProperty(E,A,False,B)\n",
    "\n",
    "                \n",
    "def closeDuality(A,certificate=True):\n",
    "    for k in M:\n",
    "        kd = kDual(k)\n",
    "        for mi in M[k]:\n",
    "            E = M[k][mi]\n",
    "            if not A in E:\n",
    "                continue\n",
    "            di = E[\"dual\"]\n",
    "            Ed = M[kd][di]\n",
    "            addProperty(Ed,A,E[A],(\"duality\" if certificate else False))\n",
    "\n",
    "def inheritFromMinor(A,val,principal=False,deletion=True,contraction=True,certificate=True):\n",
    "    minorsr = \"minors r\"\n",
    "    minorsr1 = \"minors r-1\"\n",
    "    if principal:\n",
    "        minorsr = \"principal minors r\"\n",
    "        minorsr1 = \"principal minors r-1\"\n",
    "    \n",
    "    for n in range(10):\n",
    "        for k in M:\n",
    "            if k[1] != n:\n",
    "                continue\n",
    "            for mi in M[k]:\n",
    "                E = M[k][mi]\n",
    "                if A in E:\n",
    "                    continue\n",
    "\n",
    "                if deletion:\n",
    "                    kd = kDel(k)\n",
    "                    for i in E[minorsr]:\n",
    "                        Ed = M[kd][i]\n",
    "                        if A in Ed and Ed[A] == val:\n",
    "                            addProperty(E,A,val,([minorsr,i] if certificate else False))\n",
    "                            break\n",
    "\n",
    "                    if A in E:\n",
    "                        continue\n",
    "\n",
    "                if contraction:            \n",
    "                    kc = kCon(k)\n",
    "                    for i in E[minorsr1]:\n",
    "                        Ec = M[kc][i]\n",
    "                        if A in Ec and Ec[A] == val:\n",
    "                            addProperty(E,A,val,([minorsr1,i] if certificate else False))\n",
    "                            break\n",
    "                        \n",
    "                        \n",
    "def inheritFromExtension(A,val,principal=False,ext=True,coext=True,certificate=True):\n",
    "    minorsr = \"minors r\"\n",
    "    minorsr1 = \"minors r-1\"\n",
    "    certr = \"extension\"\n",
    "    certr1 = \"coextension\"\n",
    "    if principal:\n",
    "        minorsr = \"principal minors r\"\n",
    "        minorsr1 = \"principal minors r-1\"\n",
    "        certr = \"principal extension\"\n",
    "        certr1 = \"principal coextension\"\n",
    "    ns = range(10)\n",
    "    ns.reverse()\n",
    "    for n in ns:\n",
    "        for k in M:\n",
    "            if k[1] != n:\n",
    "                continue\n",
    "            for mi in M[k]:\n",
    "                E = M[k][mi]\n",
    "                if not (A in E and E[A] == val):\n",
    "                    continue\n",
    "\n",
    "                if ext:\n",
    "                    kd = kDel(k)\n",
    "                    for i in E[minorsr]:\n",
    "                        Ed = M[kd][i]\n",
    "                        addProperty(Ed,A,val,([certr,mi] if certificate else False) )\n",
    "\n",
    "                if coext:            \n",
    "                    kc = kCon(k)\n",
    "                    for i in E[minorsr1]:\n",
    "                        Ec = M[kc][i]\n",
    "                        addProperty(Ec,A,val,([certr1,mi] if certificate else False))\n",
    "                    \n",
    "                    \n",
    "def closeCHPrelaxation(A,val):\n",
    "    for k in M:\n",
    "        nChanged = 1\n",
    "        while nChanged > 0:\n",
    "            nChanged = 0\n",
    "            for mi in M[k]:\n",
    "                E = M[k][mi]\n",
    "                if not (A in E and E[A] == val):\n",
    "                    continue\n",
    "                for i in E[\"circuit-hyperplane relaxations\"]:\n",
    "                    Er = M[k][i]\n",
    "                    if not (A in Er):\n",
    "                        nChanged += 1\n",
    "                        addProperty(Er,A,val,[\"circuit-hyperplane relaxation\", mi])\n",
    "\n",
    "                    \n",
    "def rank2Linear():\n",
    "    for k in M:\n",
    "        if k[0] <= 2 or k[1]-k[0] <= 2:\n",
    "            for mi in M[k]:\n",
    "                E = M[k][mi]\n",
    "                addProperty(E,\"2linear\",True,\"(co)rank at most 2\")\n",
    "                \n",
    "                \n",
    "def inspect(A,k,onlySize=True):\n",
    "    values = {\"-\":[]}\n",
    "    for mi in M[k]:\n",
    "        E = M[k][mi]\n",
    "        if not A in E:\n",
    "            values[\"-\"].append(mi)\n",
    "        else:\n",
    "            v = str(E[A])\n",
    "            if not (v in values):\n",
    "                values[v] = [mi]\n",
    "            else:\n",
    "                values[v].append(mi)\n",
    "    if onlySize:\n",
    "        return {v: len(values[v]) for v in values}\n",
    "    else:\n",
    "        return values            "
   ]
  },
  {
   "cell_type": "code",
   "execution_count": 4,
   "metadata": {
    "collapsed": true
   },
   "outputs": [],
   "source": [
    "rank2Linear()"
   ]
  },
  {
   "cell_type": "code",
   "execution_count": 5,
   "metadata": {
    "collapsed": true
   },
   "outputs": [],
   "source": [
    "binary = load(path + \"binaryMatroids.sobj\")\n",
    "for k in binary:\n",
    "    for mi in binary[k]:\n",
    "        addProperty(M[k][mi],\"2linear\",True,\"binary\")\n",
    "del binary"
   ]
  },
  {
   "cell_type": "code",
   "execution_count": 6,
   "metadata": {
    "collapsed": false
   },
   "outputs": [],
   "source": [
    "lin93 = load(path + \"linear2_39.sobj\")\n",
    "#representations found in \"linear2representations93.sobj\"; requires Sage 8.0 or higher\n",
    "n = 9\n",
    "for rep in lin93:\n",
    "    r = rep[1]\n",
    "    k = (r,n)\n",
    "    addProperty(M[k][rep[0]],\"2linear\",True,\"represented\")\n",
    "del lin93"
   ]
  },
  {
   "cell_type": "code",
   "execution_count": 7,
   "metadata": {
    "collapsed": false
   },
   "outputs": [],
   "source": [
    "lin94 = load(path + \"linear2_49.sobj\")\n",
    "#representations found in \"linear2representations94.sobj\"; requires Sage 8.0 or higher\n",
    "n = 9\n",
    "for rep in lin94:\n",
    "    r = rep[1]\n",
    "    k = (r,n)\n",
    "    addProperty(M[k][rep[0]],\"2linear\",True,\"represented\")\n",
    "del lin94"
   ]
  },
  {
   "cell_type": "code",
   "execution_count": 8,
   "metadata": {
    "collapsed": true
   },
   "outputs": [],
   "source": [
    "nonlin94 = load(path + \"non2linear49_extra.sobj\")\n",
    "for mi in nonlin94:\n",
    "    addProperty(M[k][mi],\"2linear\",False,\"Groebner\")\n",
    "del nonlin94"
   ]
  },
  {
   "cell_type": "code",
   "execution_count": 9,
   "metadata": {
    "collapsed": true
   },
   "outputs": [],
   "source": [
    "closeDuality(\"2linear\")"
   ]
  },
  {
   "cell_type": "code",
   "execution_count": 10,
   "metadata": {
    "collapsed": false
   },
   "outputs": [],
   "source": [
    "rat93 = load(path + \"rationalRepresentations39.sobj\")\n",
    "n = 9\n",
    "for rep in rat93:\n",
    "    r = rep[1].nrows()\n",
    "    k = (r,n)\n",
    "    addProperty(M[k][rep[0]],\"rational\",True,\"represented\")\n",
    "del rat93"
   ]
  },
  {
   "cell_type": "code",
   "execution_count": 11,
   "metadata": {
    "collapsed": false
   },
   "outputs": [],
   "source": [
    "rat94 = load(path + \"rationalRepresentations49.sobj\")\n",
    "n = 9\n",
    "for rep in rat94:\n",
    "    r = rep[1].nrows()\n",
    "    k = (r,n)\n",
    "    addProperty(M[k][rep[0]],\"rational\",True,\"represented\")\n",
    "del rat94"
   ]
  },
  {
   "cell_type": "code",
   "execution_count": 12,
   "metadata": {
    "collapsed": true
   },
   "outputs": [],
   "source": [
    "closeDuality(\"rational\")"
   ]
  },
  {
   "cell_type": "code",
   "execution_count": 13,
   "metadata": {
    "collapsed": false
   },
   "outputs": [],
   "source": [
    "nonDW = load(path + \"NonDressWenzel.sobj\")\n",
    "reg = nonDW[\"regular\"]\n",
    "for k in reg:\n",
    "    for mi in reg[k]:\n",
    "        addProperty(M[k][mi],\"Dress-Wenzel condition\",False)\n",
    "    for mi in set([i for i in M[k]]) - set(reg[k]):\n",
    "        addProperty(M[k][mi],\"Dress-Wenzel condition\",True)\n",
    "    \n",
    "char2 = nonDW[\"char 2\"]\n",
    "for k in char2:\n",
    "    for mi in char2[k]:\n",
    "        addProperty(M[k][mi],\"Dress-Wenzel condition char 2\",False)\n",
    "    for mi in set([i for i in M[k]]) - set(char2[k]):\n",
    "        addProperty(M[k][mi],\"Dress-Wenzel condition char 2\",True)\n",
    "del nonDW\n",
    "del char2\n",
    "del reg"
   ]
  },
  {
   "cell_type": "code",
   "execution_count": 14,
   "metadata": {
    "collapsed": true
   },
   "outputs": [],
   "source": [
    "closeDuality(\"Dress-Wenzel condition\",False)"
   ]
  },
  {
   "cell_type": "code",
   "execution_count": 15,
   "metadata": {
    "collapsed": true
   },
   "outputs": [],
   "source": [
    "closeDuality(\"Dress-Wenzel condition char 2\",False)"
   ]
  },
  {
   "cell_type": "code",
   "execution_count": 16,
   "metadata": {
    "collapsed": false
   },
   "outputs": [],
   "source": [
    "nonIM = load(path + \"NonIngletonMain.sobj\")\n",
    "for k in nonIM:\n",
    "    for d in nonIM[k]:\n",
    "        for mi in nonIM[k][d]:\n",
    "            addProperty(M[k][mi],\"Ingleton-Main condition\",False)\n",
    "            addProperty(M[k][mi],\"Ingleton-Main condition depth\",d)\n",
    "del nonIM"
   ]
  },
  {
   "cell_type": "code",
   "execution_count": 17,
   "metadata": {
    "collapsed": false,
    "scrolled": false
   },
   "outputs": [],
   "source": [
    "inheritFromMinor(\"Ingleton-Main condition\",False,certificate=False)"
   ]
  },
  {
   "cell_type": "code",
   "execution_count": 18,
   "metadata": {
    "collapsed": true
   },
   "outputs": [],
   "source": [
    "addProperty(M[3,9][594],\"2flock\",False,\"computed\")\n",
    "addProperty(M[6,9][594],\"2flock\",False,\"computed\")\n",
    "#This is the ternary Reid geometry (and its dual)\n",
    "\n",
    "addProperty(M[4,8][383],\"2flock\",False,\"computed\")\n",
    "#This is the matroid T8.\n",
    "\n",
    "addProperty(M[4,8][259],\"2flock\",False,\"computed\")\n",
    "\n",
    "addProperty(M[3,9][560],\"Skew-field representable\",True,\"represented (Lindstrom)\")\n",
    "#This is the Non-Pappus matroid\n",
    "\n",
    "addProperty(M[3,9][655],\"Quaternion representable\",True,\"represented\")\n",
    "#This is the matroid from Example 8.4"
   ]
  },
  {
   "cell_type": "code",
   "execution_count": 19,
   "metadata": {
    "collapsed": false
   },
   "outputs": [],
   "source": [
    "quat = load(path + \"QuaternionRepresentable49.sobj\")\n",
    "for mi in quat:\n",
    "    addProperty(M[4,9][mi],\"Quaternion representable\",True,\"represented\")\n",
    "del quat"
   ]
  },
  {
   "cell_type": "code",
   "execution_count": 20,
   "metadata": {
    "collapsed": true
   },
   "outputs": [],
   "source": [
    "closeDuality(\"Quaternion representable\")\n",
    "#these are all over a commutative subfield of the quaternions, and thus may be closed under duality"
   ]
  },
  {
   "cell_type": "code",
   "execution_count": 21,
   "metadata": {
    "collapsed": false
   },
   "outputs": [],
   "source": [
    "numb = load(path + \"NumberFieldRepresentable49.sobj\")\n",
    "for mi in numb:\n",
    "    addProperty(M[4,9][mi],\"Quadratic imaginary number field representable\",True,\"represented\")\n",
    "del numb"
   ]
  },
  {
   "cell_type": "code",
   "execution_count": 22,
   "metadata": {
    "collapsed": true
   },
   "outputs": [],
   "source": [
    "closeDuality(\"Quadratic imaginary number field representable\")"
   ]
  },
  {
   "cell_type": "code",
   "execution_count": 23,
   "metadata": {
    "collapsed": false
   },
   "outputs": [],
   "source": [
    "grid = load(path + \"LindstromGridMatroids49.sobj\")\n",
    "for mi in grid:\n",
    "    addProperty(M[4,9][mi],\"Skew-field representable\",True,\"represented (Lindstrom)\")\n",
    "del grid"
   ]
  },
  {
   "cell_type": "code",
   "execution_count": 24,
   "metadata": {
    "collapsed": true
   },
   "outputs": [],
   "source": [
    "closeDuality(\"Skew-field representable\")"
   ]
  },
  {
   "cell_type": "code",
   "execution_count": 25,
   "metadata": {
    "collapsed": true
   },
   "outputs": [],
   "source": [
    "flock = load(path + \"FlockRepresentable.sobj\")\n",
    "for k in flock:\n",
    "    for mi in flock[k]:\n",
    "        addProperty(M[k][mi],\"2flock\",True,\"computed\")\n",
    "del flock"
   ]
  },
  {
   "cell_type": "code",
   "execution_count": 26,
   "metadata": {
    "collapsed": true
   },
   "outputs": [],
   "source": [
    "nonflock = load(path + \"nonFlock49.sobj\")\n",
    "for mi in nonflock:\n",
    "    addProperty(M[4,9][mi],\"2flock\",False,\"computed\")\n",
    "    addProperty(M[5,9][mi],\"2flock\",False,\"computed\")\n",
    "del nonflock"
   ]
  },
  {
   "cell_type": "code",
   "execution_count": 27,
   "metadata": {
    "collapsed": true
   },
   "outputs": [],
   "source": [
    "AimpliesB(\"2linear\",\"Dress-Wenzel condition char 2\")"
   ]
  },
  {
   "cell_type": "code",
   "execution_count": 28,
   "metadata": {
    "collapsed": true
   },
   "outputs": [],
   "source": [
    "AimpliesB(\"rational\",\"Dress-Wenzel condition\")"
   ]
  },
  {
   "cell_type": "code",
   "execution_count": 29,
   "metadata": {
    "collapsed": true
   },
   "outputs": [],
   "source": [
    "AimpliesB(\"Quadratic imaginary number field representable\",\"Dress-Wenzel condition\")"
   ]
  },
  {
   "cell_type": "code",
   "execution_count": 30,
   "metadata": {
    "collapsed": false
   },
   "outputs": [],
   "source": [
    "inheritFromExtension(\"2linear\",True)\n",
    "inheritFromExtension(\"rational\",True)\n",
    "inheritFromExtension(\"Quaternion representable\",True)\n",
    "inheritFromExtension(\"Skew-field representable\",True)\n",
    "inheritFromExtension(\"Quadratic imaginary number field representable\",True)"
   ]
  },
  {
   "cell_type": "code",
   "execution_count": 31,
   "metadata": {
    "collapsed": true
   },
   "outputs": [],
   "source": [
    "inheritFromMinor(\"Skew-field representable\",True,principal=True,contraction=False)\n",
    "closeDuality(\"Skew-field representable\")"
   ]
  },
  {
   "cell_type": "code",
   "execution_count": 32,
   "metadata": {
    "collapsed": false
   },
   "outputs": [],
   "source": [
    "AimpliesB(\"2linear\",\"2algebraic\")"
   ]
  },
  {
   "cell_type": "code",
   "execution_count": 33,
   "metadata": {
    "collapsed": true
   },
   "outputs": [],
   "source": [
    "AimpliesB(\"rational\",\"2algebraic\")"
   ]
  },
  {
   "cell_type": "code",
   "execution_count": 34,
   "metadata": {
    "collapsed": true
   },
   "outputs": [],
   "source": [
    "AimpliesB(\"Quaternion representable\",\"2algebraic\")"
   ]
  },
  {
   "cell_type": "code",
   "execution_count": 35,
   "metadata": {
    "collapsed": true
   },
   "outputs": [],
   "source": [
    "AimpliesB(\"Quadratic imaginary number field representable\",\"2algebraic\")"
   ]
  },
  {
   "cell_type": "code",
   "execution_count": 36,
   "metadata": {
    "collapsed": true
   },
   "outputs": [],
   "source": [
    "AimpliesB(\"Skew-field representable\",\"2algebraic\")"
   ]
  },
  {
   "cell_type": "code",
   "execution_count": 37,
   "metadata": {
    "collapsed": true
   },
   "outputs": [],
   "source": [
    "AimpliesB(\"2algebraic\",\"Ingleton-Main condition\")"
   ]
  },
  {
   "cell_type": "code",
   "execution_count": 38,
   "metadata": {
    "collapsed": true
   },
   "outputs": [],
   "source": [
    "inheritFromMinor(\"2algebraic\",True,principal=True,contraction=False)\n",
    "#principal extension is currently not required to fill the encyclopedia."
   ]
  },
  {
   "cell_type": "code",
   "execution_count": 39,
   "metadata": {
    "collapsed": true
   },
   "outputs": [],
   "source": [
    "AimpliesB(\"2algebraic\",\"2flock\")"
   ]
  },
  {
   "cell_type": "code",
   "execution_count": 40,
   "metadata": {
    "collapsed": false
   },
   "outputs": [],
   "source": [
    "closeCHPrelaxation(\"2flock\",True)"
   ]
  },
  {
   "cell_type": "code",
   "execution_count": 41,
   "metadata": {
    "collapsed": false
   },
   "outputs": [
    {
     "data": {
      "text/plain": [
       "{'-': 10747, 'False': 31820, 'True': 147647}"
      ]
     },
     "execution_count": 41,
     "metadata": {},
     "output_type": "execute_result"
    }
   ],
   "source": [
    "inspect(\"2algebraic\",(4,9))"
   ]
  },
  {
   "cell_type": "code",
   "execution_count": 42,
   "metadata": {
    "collapsed": false,
    "scrolled": true
   },
   "outputs": [
    {
     "data": {
      "text/plain": [
       "{'-': 10747,\n",
       " '2flock': 1064,\n",
       " '2linear': 125692,\n",
       " 'Ingleton-Main condition': 30756,\n",
       " 'Quadratic imaginary number field representable': 284,\n",
       " 'Quaternion representable': 1104,\n",
       " 'Skew-field representable': 98,\n",
       " 'rational': 20469}"
      ]
     },
     "execution_count": 42,
     "metadata": {},
     "output_type": "execute_result"
    }
   ],
   "source": [
    "inspect(\"2algebraic certificate\",(4,9))"
   ]
  },
  {
   "cell_type": "code",
   "execution_count": 43,
   "metadata": {
    "collapsed": false
   },
   "outputs": [
    {
     "data": {
      "text/plain": [
       "{'-': 13304, 'False': 29263, 'True': 147647}"
      ]
     },
     "execution_count": 43,
     "metadata": {},
     "output_type": "execute_result"
    }
   ],
   "source": [
    "inspect(\"2algebraic\",(5,9))"
   ]
  },
  {
   "cell_type": "code",
   "execution_count": 44,
   "metadata": {
    "collapsed": false,
    "scrolled": true
   },
   "outputs": [
    {
     "data": {
      "text/plain": [
       "{'-': 13304,\n",
       " '2flock': 1763,\n",
       " '2linear': 125692,\n",
       " 'Ingleton-Main condition': 27500,\n",
       " 'Quadratic imaginary number field representable': 284,\n",
       " 'Quaternion representable': 1104,\n",
       " 'Skew-field representable': 98,\n",
       " 'rational': 20469}"
      ]
     },
     "execution_count": 44,
     "metadata": {},
     "output_type": "execute_result"
    }
   ],
   "source": [
    "inspect(\"2algebraic certificate\",(5,9))"
   ]
  },
  {
   "cell_type": "code",
   "execution_count": 45,
   "metadata": {
    "collapsed": false
   },
   "outputs": [
    {
     "data": {
      "text/plain": [
       "{'-': 3, 'False': 1, 'True': 1271}"
      ]
     },
     "execution_count": 45,
     "metadata": {},
     "output_type": "execute_result"
    }
   ],
   "source": [
    "inspect(\"2algebraic\",(3,9))"
   ]
  },
  {
   "cell_type": "code",
   "execution_count": 46,
   "metadata": {
    "collapsed": false
   },
   "outputs": [
    {
     "data": {
      "text/plain": [
       "{'-': 3, 'False': 1, 'True': 1271}"
      ]
     },
     "execution_count": 46,
     "metadata": {},
     "output_type": "execute_result"
    }
   ],
   "source": [
    "inspect(\"2algebraic\",(6,9))"
   ]
  },
  {
   "cell_type": "code",
   "execution_count": 47,
   "metadata": {
    "collapsed": false
   },
   "outputs": [
    {
     "data": {
      "text/plain": [
       "{'-': 3, 'False': 40, 'True': 897}"
      ]
     },
     "execution_count": 47,
     "metadata": {},
     "output_type": "execute_result"
    }
   ],
   "source": [
    "inspect(\"2algebraic\",(4,8))"
   ]
  },
  {
   "cell_type": "code",
   "execution_count": 48,
   "metadata": {
    "collapsed": false
   },
   "outputs": [
    {
     "data": {
      "text/plain": [
       "{'-': 0, 'False': 37988, 'True': 152226}"
      ]
     },
     "execution_count": 48,
     "metadata": {},
     "output_type": "execute_result"
    }
   ],
   "source": [
    "inspect(\"Dress-Wenzel condition\",(4,9))"
   ]
  },
  {
   "cell_type": "code",
   "execution_count": 49,
   "metadata": {
    "collapsed": false
   },
   "outputs": [
    {
     "data": {
      "text/plain": [
       "{'-': 0, 'False': 64395, 'True': 125819}"
      ]
     },
     "execution_count": 49,
     "metadata": {},
     "output_type": "execute_result"
    }
   ],
   "source": [
    "inspect(\"Dress-Wenzel condition char 2\",(4,9))"
   ]
  },
  {
   "cell_type": "code",
   "execution_count": 50,
   "metadata": {
    "collapsed": false
   },
   "outputs": [
    {
     "data": {
      "text/plain": [
       "{'-': 11811, 'False': 30756, 'True': 147647}"
      ]
     },
     "execution_count": 50,
     "metadata": {},
     "output_type": "execute_result"
    }
   ],
   "source": [
    "inspect(\"Ingleton-Main condition\",(4,9))"
   ]
  },
  {
   "cell_type": "code",
   "execution_count": 51,
   "metadata": {
    "collapsed": false
   },
   "outputs": [
    {
     "data": {
      "text/plain": [
       "{'-': 186595, '3': 1281, '4': 1753, '5': 487, '6': 98}"
      ]
     },
     "execution_count": 51,
     "metadata": {},
     "output_type": "execute_result"
    }
   ],
   "source": [
    "inspect(\"Ingleton-Main condition depth\",(4,9))"
   ]
  },
  {
   "cell_type": "code",
   "execution_count": 52,
   "metadata": {
    "collapsed": false
   },
   "outputs": [
    {
     "data": {
      "text/plain": [
       "{'-': 15067, 'False': 27500, 'True': 147647}"
      ]
     },
     "execution_count": 52,
     "metadata": {},
     "output_type": "execute_result"
    }
   ],
   "source": [
    "inspect(\"Ingleton-Main condition\",(5,9))"
   ]
  },
  {
   "cell_type": "code",
   "execution_count": 53,
   "metadata": {
    "collapsed": false
   },
   "outputs": [
    {
     "data": {
      "text/plain": [
       "{'-': 189851, '3': 7, '4': 298, '5': 58}"
      ]
     },
     "execution_count": 53,
     "metadata": {},
     "output_type": "execute_result"
    }
   ],
   "source": [
    "inspect(\"Ingleton-Main condition depth\",(5,9))"
   ]
  },
  {
   "cell_type": "code",
   "execution_count": 54,
   "metadata": {
    "collapsed": false
   },
   "outputs": [
    {
     "data": {
      "text/plain": [
       "{'-': 0, 'False': 1, 'True': 1274}"
      ]
     },
     "execution_count": 54,
     "metadata": {},
     "output_type": "execute_result"
    }
   ],
   "source": [
    "inspect(\"2flock\",(3,9))"
   ]
  },
  {
   "cell_type": "code",
   "execution_count": 55,
   "metadata": {
    "collapsed": false
   },
   "outputs": [
    {
     "data": {
      "text/plain": [
       "{'-': 0, 'False': 2, 'True': 938}"
      ]
     },
     "execution_count": 55,
     "metadata": {},
     "output_type": "execute_result"
    }
   ],
   "source": [
    "inspect(\"2flock\",(4,8))"
   ]
  },
  {
   "cell_type": "code",
   "execution_count": 56,
   "metadata": {
    "collapsed": false
   },
   "outputs": [
    {
     "data": {
      "text/plain": [
       "{'-': 317, 'False': 4551, 'True': 185346}"
      ]
     },
     "execution_count": 56,
     "metadata": {},
     "output_type": "execute_result"
    }
   ],
   "source": [
    "inspect(\"2flock\",(4,9))"
   ]
  },
  {
   "cell_type": "code",
   "execution_count": 57,
   "metadata": {
    "collapsed": false
   },
   "outputs": [
    {
     "data": {
      "text/plain": [
       "{'-': 315, 'False': 4551, 'True': 185348}"
      ]
     },
     "execution_count": 57,
     "metadata": {},
     "output_type": "execute_result"
    }
   ],
   "source": [
    "inspect(\"2flock\",(5,9))"
   ]
  },
  {
   "cell_type": "code",
   "execution_count": null,
   "metadata": {
    "collapsed": true
   },
   "outputs": [],
   "source": []
  }
 ],
 "metadata": {
  "kernelspec": {
   "display_name": "SageMath 7.5.1",
   "language": "",
   "name": "sagemath"
  },
  "language_info": {
   "codemirror_mode": {
    "name": "ipython",
    "version": 2
   },
   "file_extension": ".py",
   "mimetype": "text/x-python",
   "name": "python",
   "nbconvert_exporter": "python",
   "pygments_lexer": "ipython2",
   "version": "2.7.13"
  }
 },
 "nbformat": 4,
 "nbformat_minor": 0
}

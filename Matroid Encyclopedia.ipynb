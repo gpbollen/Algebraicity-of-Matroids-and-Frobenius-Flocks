{
 "cells": [
  {
   "cell_type": "markdown",
   "metadata": {},
   "source": [
    "In this notebook, the matroid encyclopedia is filled from scratch.\n",
    "For each tuple k=(rank,size), and for each number mi in {0,...,#(matroids of type (rank,size))-1},\n",
    "M[k][mi] is a list of properties of a matroid to which I refer in the thesis.\n",
    "\n",
    "Run this file from top to bottom to fill the Matroid Encyclopedia in several minutes.\n",
    "The function 'inspect' can be used to obtain the numbers or lists of matroids for each property; see below for examples."
   ]
  },
  {
   "cell_type": "code",
   "execution_count": 2,
   "metadata": {
    "collapsed": true
   },
   "outputs": [],
   "source": [
    "#Edit the path to match your own directories\n",
    "path = \"/media/sf_SageShared/fromScratch/\""
   ]
  },
  {
   "cell_type": "code",
   "execution_count": 3,
   "metadata": {
    "collapsed": true
   },
   "outputs": [],
   "source": [
    "M = load(path + \"matroidEncyclopediaEmpty_part1.sobj\")\n",
    "M2 = load(path + \"matroidEncyclopediaEmpty_part2.sobj\")\n",
    "M.update(M2)\n",
    "#loads the empty Matroid Encyclopedia, including minor relations and circuit-hyperplane relaxation relations."
   ]
  },
  {
   "cell_type": "code",
   "execution_count": 4,
   "metadata": {
    "collapsed": false
   },
   "outputs": [],
   "source": [
    "#The following functions are used to fill up the matroid encyclopedia.\n",
    "\n",
    "def kDual(k):\n",
    "    return (k[1]-k[0],k[1])\n",
    "def kDel(k):\n",
    "    return (k[0],k[1]-1)\n",
    "def kCon(k):\n",
    "    return (k[0]-1,k[1]-1)\n",
    "\n",
    "def addProperty(E,A,val,certificate=False):\n",
    "    if A in E:\n",
    "        if not E[A] == val:\n",
    "            print \"error!\", k, mi, A, val, E[A]\n",
    "    else:\n",
    "        E[A] = val\n",
    "        if certificate != False:\n",
    "            E[A + \" certificate\"] = certificate\n",
    "\n",
    "def AimpliesB(A,B):\n",
    "    for k in M:\n",
    "        for mi in M[k]:\n",
    "            E = M[k][mi]\n",
    "            if A in E and E[A]:\n",
    "                addProperty(E,B,True,A)\n",
    "            elif B in E and not E[B]:\n",
    "                addProperty(E,A,False,B)\n",
    "\n",
    "                \n",
    "def closeDuality(A,certificate=True):\n",
    "    for k in M:\n",
    "        kd = kDual(k)\n",
    "        for mi in M[k]:\n",
    "            E = M[k][mi]\n",
    "            if not A in E:\n",
    "                continue\n",
    "            di = E[\"dual\"]\n",
    "            Ed = M[kd][di]\n",
    "            addProperty(Ed,A,E[A],(\"duality\" if certificate else False))\n",
    "\n",
    "def inheritFromMinor(A,val,principal=False,deletion=True,contraction=True,certificate=True):\n",
    "    minorsr = \"minors r\"\n",
    "    minorsr1 = \"minors r-1\"\n",
    "    if principal:\n",
    "        minorsr = \"principal minors r\"\n",
    "        minorsr1 = \"principal minors r-1\"\n",
    "    \n",
    "    for n in range(10):\n",
    "        for k in M:\n",
    "            if k[1] != n:\n",
    "                continue\n",
    "            for mi in M[k]:\n",
    "                E = M[k][mi]\n",
    "                if A in E:\n",
    "                    continue\n",
    "\n",
    "                if deletion:\n",
    "                    kd = kDel(k)\n",
    "                    for i in E[minorsr]:\n",
    "                        Ed = M[kd][i]\n",
    "                        if A in Ed and Ed[A] == val:\n",
    "                            addProperty(E,A,val,([minorsr,i] if certificate else False))\n",
    "                            break\n",
    "\n",
    "                    if A in E:\n",
    "                        continue\n",
    "\n",
    "                if contraction:            \n",
    "                    kc = kCon(k)\n",
    "                    for i in E[minorsr1]:\n",
    "                        Ec = M[kc][i]\n",
    "                        if A in Ec and Ec[A] == val:\n",
    "                            addProperty(E,A,val,([minorsr1,i] if certificate else False))\n",
    "                            break\n",
    "                        \n",
    "                        \n",
    "def inheritFromExtension(A,val,principal=False,ext=True,coext=True,certificate=True):\n",
    "    minorsr = \"minors r\"\n",
    "    minorsr1 = \"minors r-1\"\n",
    "    certr = \"extension\"\n",
    "    certr1 = \"coextension\"\n",
    "    if principal:\n",
    "        minorsr = \"principal minors r\"\n",
    "        minorsr1 = \"principal minors r-1\"\n",
    "        certr = \"principal extension\"\n",
    "        certr1 = \"principal coextension\"\n",
    "    ns = range(10)\n",
    "    ns.reverse()\n",
    "    for n in ns:\n",
    "        for k in M:\n",
    "            if k[1] != n:\n",
    "                continue\n",
    "            for mi in M[k]:\n",
    "                E = M[k][mi]\n",
    "                if not (A in E and E[A] == val):\n",
    "                    continue\n",
    "\n",
    "                if ext:\n",
    "                    kd = kDel(k)\n",
    "                    for i in E[minorsr]:\n",
    "                        Ed = M[kd][i]\n",
    "                        addProperty(Ed,A,val,([certr,mi] if certificate else False) )\n",
    "\n",
    "                if coext:            \n",
    "                    kc = kCon(k)\n",
    "                    for i in E[minorsr1]:\n",
    "                        Ec = M[kc][i]\n",
    "                        addProperty(Ec,A,val,([certr1,mi] if certificate else False))\n",
    "                    \n",
    "                    \n",
    "def closeCHPrelaxation(A,val):\n",
    "    for k in M:\n",
    "        nChanged = 1\n",
    "        while nChanged > 0:\n",
    "            nChanged = 0\n",
    "            for mi in M[k]:\n",
    "                E = M[k][mi]\n",
    "                if not (A in E and E[A] == val):\n",
    "                    continue\n",
    "                for i in E[\"circuit-hyperplane relaxations\"]:\n",
    "                    Er = M[k][i]\n",
    "                    if not (A in Er):\n",
    "                        nChanged += 1\n",
    "                        addProperty(Er,A,val,[\"circuit-hyperplane relaxation\", mi])\n",
    "\n",
    "                    \n",
    "def rank2Linear():\n",
    "    for k in M:\n",
    "        if k[0] <= 2 or k[1]-k[0] <= 2:\n",
    "            for mi in M[k]:\n",
    "                E = M[k][mi]\n",
    "                addProperty(E,\"2linear\",True,\"(co)rank at most 2\")\n",
    "                \n",
    "                \n",
    "def inspect(A,k,onlySize=True):\n",
    "    values = {\"-\":[]}\n",
    "    for mi in M[k]:\n",
    "        E = M[k][mi]\n",
    "        if not A in E:\n",
    "            values[\"-\"].append(mi)\n",
    "        else:\n",
    "            v = str(E[A])\n",
    "            if not (v in values):\n",
    "                values[v] = [mi]\n",
    "            else:\n",
    "                values[v].append(mi)\n",
    "    if onlySize:\n",
    "        return {v: len(values[v]) for v in values}\n",
    "    else:\n",
    "        return values            "
   ]
  },
  {
   "cell_type": "code",
   "execution_count": 5,
   "metadata": {
    "collapsed": true
   },
   "outputs": [],
   "source": [
    "#each matroid of (co)rank at most 2 is 2linear.\n",
    "rank2Linear()"
   ]
  },
  {
   "cell_type": "code",
   "execution_count": 6,
   "metadata": {
    "collapsed": true
   },
   "outputs": [],
   "source": [
    "#a list of binary matroid indices for each (rank,size)\n",
    "binary = load(path + \"binaryMatroids.sobj\")\n",
    "\n",
    "#each binary matroid is 2linear.\n",
    "for k in binary:\n",
    "    for mi in binary[k]:\n",
    "        addProperty(M[k][mi],\"2linear\",True,\"binary\")\n",
    "del binary"
   ]
  },
  {
   "cell_type": "code",
   "execution_count": 7,
   "metadata": {
    "collapsed": false
   },
   "outputs": [],
   "source": [
    "#a list of 2linear matroid indices for (3,9)\n",
    "lin93 = load(path + \"linear2_39.sobj\")\n",
    "#the representations are found in \"linear2representations93.sobj\" as a list of [mi,representation];\n",
    "#requires Sage 8.0 or higher\n",
    "\n",
    "n = 9\n",
    "for rep in lin93:\n",
    "    r = rep[1]\n",
    "    k = (r,n)\n",
    "    addProperty(M[k][rep[0]],\"2linear\",True,\"represented\")\n",
    "del lin93"
   ]
  },
  {
   "cell_type": "code",
   "execution_count": 8,
   "metadata": {
    "collapsed": false
   },
   "outputs": [],
   "source": [
    "#a list of 2linear matroid indices for (4,9)\n",
    "lin94 = load(path + \"linear2_49.sobj\")\n",
    "#the representations are found in \"linear2representations94.sobj\" as a list of [mi,representation];\n",
    "#requires Sage 8.0 or higher\n",
    "\n",
    "n = 9\n",
    "for rep in lin94:\n",
    "    r = rep[1]\n",
    "    k = (r,n)\n",
    "    addProperty(M[k][rep[0]],\"2linear\",True,\"represented\")\n",
    "del lin94"
   ]
  },
  {
   "cell_type": "code",
   "execution_count": 9,
   "metadata": {
    "collapsed": true
   },
   "outputs": [],
   "source": [
    "#a list of nonlinear matroids due to a Groebner basis computation.\n",
    "nonlin94 = load(path + \"non2linear49_extra.sobj\")\n",
    "\n",
    "for mi in nonlin94:\n",
    "    addProperty(M[k][mi],\"2linear\",False,\"Groebner\")\n",
    "del nonlin94"
   ]
  },
  {
   "cell_type": "code",
   "execution_count": 10,
   "metadata": {
    "collapsed": true
   },
   "outputs": [],
   "source": [
    "#Linearity in characteristic 2 is closed under duality.\n",
    "closeDuality(\"2linear\")"
   ]
  },
  {
   "cell_type": "code",
   "execution_count": 11,
   "metadata": {
    "collapsed": false
   },
   "outputs": [],
   "source": [
    "#a list of [mi,representation] for rational matroids of type (3,9)\n",
    "rat93 = load(path + \"rationalRepresentations39.sobj\")\n",
    "\n",
    "n = 9\n",
    "for rep in rat93:\n",
    "    r = rep[1].nrows()\n",
    "    k = (r,n)\n",
    "    addProperty(M[k][rep[0]],\"rational\",True,\"represented\")\n",
    "del rat93"
   ]
  },
  {
   "cell_type": "code",
   "execution_count": 12,
   "metadata": {
    "collapsed": false
   },
   "outputs": [],
   "source": [
    "#a list of [mi,representation] for rational matroids of type (4,9)\n",
    "rat94 = load(path + \"rationalRepresentations49.sobj\")\n",
    "\n",
    "n = 9\n",
    "for rep in rat94:\n",
    "    r = rep[1].nrows()\n",
    "    k = (r,n)\n",
    "    addProperty(M[k][rep[0]],\"rational\",True,\"represented\")\n",
    "del rat94"
   ]
  },
  {
   "cell_type": "code",
   "execution_count": 13,
   "metadata": {
    "collapsed": true
   },
   "outputs": [],
   "source": [
    "#rationality is closed under duality\n",
    "closeDuality(\"rational\")"
   ]
  },
  {
   "cell_type": "code",
   "execution_count": 14,
   "metadata": {
    "collapsed": false
   },
   "outputs": [],
   "source": [
    "#a complete list of matroid indices per (rank,size) not satisfying the Dress-Wenzel condition\n",
    "nonDW = load(path + \"NonDressWenzel.sobj\")\n",
    "\n",
    "reg = nonDW[\"regular\"]\n",
    "for k in reg:\n",
    "    for mi in reg[k]:\n",
    "        addProperty(M[k][mi],\"Dress-Wenzel condition\",False)\n",
    "    for mi in set([i for i in M[k]]) - set(reg[k]):\n",
    "        addProperty(M[k][mi],\"Dress-Wenzel condition\",True)\n",
    "    \n",
    "#a complete list of matroid indices per (rank,size) not satisfying the Dress-Wenzel condition in characteristic 2\n",
    "char2 = nonDW[\"char 2\"]\n",
    "\n",
    "for k in char2:\n",
    "    for mi in char2[k]:\n",
    "        addProperty(M[k][mi],\"Dress-Wenzel condition char 2\",False)\n",
    "    for mi in set([i for i in M[k]]) - set(char2[k]):\n",
    "        addProperty(M[k][mi],\"Dress-Wenzel condition char 2\",True)\n",
    "del nonDW\n",
    "del char2\n",
    "del reg"
   ]
  },
  {
   "cell_type": "code",
   "execution_count": 15,
   "metadata": {
    "collapsed": true
   },
   "outputs": [],
   "source": [
    "#The Dress-Wenzel condition is closed under duality\n",
    "closeDuality(\"Dress-Wenzel condition\",False)"
   ]
  },
  {
   "cell_type": "code",
   "execution_count": 16,
   "metadata": {
    "collapsed": true
   },
   "outputs": [],
   "source": [
    "#The Dress-Wenzel condition in char 2 is closed under duality\n",
    "closeDuality(\"Dress-Wenzel condition char 2\",False)"
   ]
  },
  {
   "cell_type": "code",
   "execution_count": 17,
   "metadata": {
    "collapsed": false
   },
   "outputs": [],
   "source": [
    "#A list of matroid indices not satisfying the Ingleton-Main condition at depth d for each (rank,size)\n",
    "nonIM = load(path + \"NonIngletonMain.sobj\")\n",
    "\n",
    "for k in nonIM:\n",
    "    for d in nonIM[k]:\n",
    "        for mi in nonIM[k][d]:\n",
    "            addProperty(M[k][mi],\"Ingleton-Main condition\",False)\n",
    "            addProperty(M[k][mi],\"Ingleton-Main condition depth\",d)\n",
    "del nonIM"
   ]
  },
  {
   "cell_type": "code",
   "execution_count": 18,
   "metadata": {
    "collapsed": false,
    "scrolled": false
   },
   "outputs": [],
   "source": [
    "#Not satisfying the Ingleton-Main condition is preserved under extension\n",
    "inheritFromMinor(\"Ingleton-Main condition\",False,certificate=False)"
   ]
  },
  {
   "cell_type": "code",
   "execution_count": 19,
   "metadata": {
    "collapsed": true
   },
   "outputs": [],
   "source": [
    "#We add some properties manually for small matroids.\n",
    "\n",
    "addProperty(M[3,9][594],\"2flock\",False,\"computed\")\n",
    "addProperty(M[6,9][594],\"2flock\",False,\"computed\")\n",
    "#This is the ternary Reid geometry (and its dual)\n",
    "\n",
    "addProperty(M[4,8][383],\"2flock\",False,\"computed\")\n",
    "#This is the matroid T8.\n",
    "\n",
    "addProperty(M[4,8][259],\"2flock\",False,\"computed\")\n",
    "\n",
    "addProperty(M[3,9][560],\"Skew-field representable\",True,\"represented (Lindstrom)\")\n",
    "#This is the Non-Pappus matroid\n",
    "\n",
    "addProperty(M[3,9][655],\"Quaternion representable\",True,\"represented\")\n",
    "#This is the matroid from Example 8.4"
   ]
  },
  {
   "cell_type": "code",
   "execution_count": 20,
   "metadata": {
    "collapsed": false
   },
   "outputs": [],
   "source": [
    "#A list of matroids represented over Q(sqrt(D)), where D = -1, -2 or -3.\n",
    "#These are all representable over supersingular elliptic curves.\n",
    "quat = load(path + \"QuaternionRepresentable49.sobj\")\n",
    "\n",
    "for mi in quat:\n",
    "    addProperty(M[4,9][mi],\"Quaternion representable\",True,\"represented\")\n",
    "del quat"
   ]
  },
  {
   "cell_type": "code",
   "execution_count": 21,
   "metadata": {
    "collapsed": true
   },
   "outputs": [],
   "source": [
    "#skew-field representability is closed under duality\n",
    "closeDuality(\"Quaternion representable\")"
   ]
  },
  {
   "cell_type": "code",
   "execution_count": 22,
   "metadata": {
    "collapsed": false
   },
   "outputs": [],
   "source": [
    "#A list of matroids represented over Q(sqrt(D)), where D = -7 or -15.\n",
    "#These are all representable over ordinary elliptic curves.\n",
    "numb = load(path + \"NumberFieldRepresentable49.sobj\")\n",
    "\n",
    "for mi in numb:\n",
    "    addProperty(M[4,9][mi],\"Quadratic imaginary number field representable\",True,\"represented\")\n",
    "del numb"
   ]
  },
  {
   "cell_type": "code",
   "execution_count": 23,
   "metadata": {
    "collapsed": true
   },
   "outputs": [],
   "source": [
    "#Representability over a commutative field is closed under duality\n",
    "closeDuality(\"Quadratic imaginary number field representable\")"
   ]
  },
  {
   "cell_type": "code",
   "execution_count": 24,
   "metadata": {
    "collapsed": false
   },
   "outputs": [],
   "source": [
    "#A list of matroids appearing as a deletion minor of Lindstroms 'grid' matroid.\n",
    "grid = load(path + \"LindstromGridMatroids49.sobj\")\n",
    "\n",
    "#All of these matroids are representable over GF(2)(F)\n",
    "for mi in grid:\n",
    "    addProperty(M[4,9][mi],\"Skew-field representable\",True,\"represented (Lindstrom)\")\n",
    "del grid"
   ]
  },
  {
   "cell_type": "code",
   "execution_count": 25,
   "metadata": {
    "collapsed": true
   },
   "outputs": [],
   "source": [
    "#skew-field representability is closed under duality\n",
    "closeDuality(\"Skew-field representable\")"
   ]
  },
  {
   "cell_type": "code",
   "execution_count": 26,
   "metadata": {
    "collapsed": true
   },
   "outputs": [],
   "source": [
    "#a list of matroids for which Frobenius-flock representability was computed and True for each (rank,size).\n",
    "flock = load(path + \"FlockRepresentable.sobj\")\n",
    "\n",
    "for k in flock:\n",
    "    for mi in flock[k]:\n",
    "        addProperty(M[k][mi],\"2flock\",True,\"computed\")\n",
    "del flock"
   ]
  },
  {
   "cell_type": "code",
   "execution_count": 27,
   "metadata": {
    "collapsed": true
   },
   "outputs": [],
   "source": [
    "#A list of matroids failing the Flock condition of type(4,9)\n",
    "nonflock = load(path + \"nonFlock49.sobj\")\n",
    "\n",
    "for mi in nonflock:\n",
    "    addProperty(M[4,9][mi],\"2flock\",False,\"computed\")\n",
    "    addProperty(M[5,9][mi],\"2flock\",False,\"computed\")\n",
    "del nonflock"
   ]
  },
  {
   "cell_type": "markdown",
   "metadata": {},
   "source": [
    "Now we apply known implications:"
   ]
  },
  {
   "cell_type": "code",
   "execution_count": 28,
   "metadata": {
    "collapsed": true
   },
   "outputs": [],
   "source": [
    "AimpliesB(\"2linear\",\"Dress-Wenzel condition char 2\")"
   ]
  },
  {
   "cell_type": "code",
   "execution_count": 29,
   "metadata": {
    "collapsed": true
   },
   "outputs": [],
   "source": [
    "AimpliesB(\"rational\",\"Dress-Wenzel condition\")"
   ]
  },
  {
   "cell_type": "code",
   "execution_count": 30,
   "metadata": {
    "collapsed": true
   },
   "outputs": [],
   "source": [
    "AimpliesB(\"Quadratic imaginary number field representable\",\"Dress-Wenzel condition\")"
   ]
  },
  {
   "cell_type": "code",
   "execution_count": 31,
   "metadata": {
    "collapsed": false
   },
   "outputs": [],
   "source": [
    "inheritFromExtension(\"2linear\",True)\n",
    "inheritFromExtension(\"rational\",True)\n",
    "inheritFromExtension(\"Quaternion representable\",True)\n",
    "inheritFromExtension(\"Skew-field representable\",True)\n",
    "inheritFromExtension(\"Quadratic imaginary number field representable\",True)"
   ]
  },
  {
   "cell_type": "code",
   "execution_count": 32,
   "metadata": {
    "collapsed": true
   },
   "outputs": [],
   "source": [
    "inheritFromMinor(\"Skew-field representable\",True,principal=True,contraction=False)\n",
    "closeDuality(\"Skew-field representable\")"
   ]
  },
  {
   "cell_type": "code",
   "execution_count": 33,
   "metadata": {
    "collapsed": false
   },
   "outputs": [],
   "source": [
    "AimpliesB(\"2linear\",\"2algebraic\")"
   ]
  },
  {
   "cell_type": "code",
   "execution_count": 34,
   "metadata": {
    "collapsed": true
   },
   "outputs": [],
   "source": [
    "AimpliesB(\"rational\",\"2algebraic\")"
   ]
  },
  {
   "cell_type": "code",
   "execution_count": 35,
   "metadata": {
    "collapsed": true
   },
   "outputs": [],
   "source": [
    "AimpliesB(\"Quaternion representable\",\"2algebraic\")"
   ]
  },
  {
   "cell_type": "code",
   "execution_count": 36,
   "metadata": {
    "collapsed": true
   },
   "outputs": [],
   "source": [
    "AimpliesB(\"Quadratic imaginary number field representable\",\"2algebraic\")"
   ]
  },
  {
   "cell_type": "code",
   "execution_count": 37,
   "metadata": {
    "collapsed": true
   },
   "outputs": [],
   "source": [
    "AimpliesB(\"Skew-field representable\",\"2algebraic\")"
   ]
  },
  {
   "cell_type": "code",
   "execution_count": 38,
   "metadata": {
    "collapsed": true
   },
   "outputs": [],
   "source": [
    "AimpliesB(\"2algebraic\",\"Ingleton-Main condition\")"
   ]
  },
  {
   "cell_type": "code",
   "execution_count": 39,
   "metadata": {
    "collapsed": true
   },
   "outputs": [],
   "source": [
    "inheritFromMinor(\"2algebraic\",True,principal=True,contraction=False)\n",
    "#principal extension is currently not required to fill the encyclopedia."
   ]
  },
  {
   "cell_type": "code",
   "execution_count": 40,
   "metadata": {
    "collapsed": true
   },
   "outputs": [],
   "source": [
    "AimpliesB(\"2algebraic\",\"2flock\")"
   ]
  },
  {
   "cell_type": "code",
   "execution_count": 41,
   "metadata": {
    "collapsed": false
   },
   "outputs": [],
   "source": [
    "#Flock-representability is closed under circuit-hyperplane relaxation.\n",
    "closeCHPrelaxation(\"2flock\",True)"
   ]
  },
  {
   "cell_type": "markdown",
   "metadata": {},
   "source": [
    "Examples:"
   ]
  },
  {
   "cell_type": "code",
   "execution_count": 42,
   "metadata": {
    "collapsed": false
   },
   "outputs": [
    {
     "data": {
      "text/plain": [
       "{'-': 10747, 'False': 31820, 'True': 147647}"
      ]
     },
     "execution_count": 42,
     "metadata": {},
     "output_type": "execute_result"
    }
   ],
   "source": [
    "inspect(\"2algebraic\",(4,9))"
   ]
  },
  {
   "cell_type": "code",
   "execution_count": 43,
   "metadata": {
    "collapsed": false,
    "scrolled": true
   },
   "outputs": [
    {
     "data": {
      "text/plain": [
       "{'-': 10747,\n",
       " '2flock': 1064,\n",
       " '2linear': 125692,\n",
       " 'Ingleton-Main condition': 30756,\n",
       " 'Quadratic imaginary number field representable': 284,\n",
       " 'Quaternion representable': 1104,\n",
       " 'Skew-field representable': 98,\n",
       " 'rational': 20469}"
      ]
     },
     "execution_count": 43,
     "metadata": {},
     "output_type": "execute_result"
    }
   ],
   "source": [
    "inspect(\"2algebraic certificate\",(4,9))"
   ]
  },
  {
   "cell_type": "code",
   "execution_count": 44,
   "metadata": {
    "collapsed": false
   },
   "outputs": [
    {
     "data": {
      "text/plain": [
       "{'-': 13304, 'False': 29263, 'True': 147647}"
      ]
     },
     "execution_count": 44,
     "metadata": {},
     "output_type": "execute_result"
    }
   ],
   "source": [
    "inspect(\"2algebraic\",(5,9))"
   ]
  },
  {
   "cell_type": "code",
   "execution_count": 45,
   "metadata": {
    "collapsed": false,
    "scrolled": true
   },
   "outputs": [
    {
     "data": {
      "text/plain": [
       "{'-': 13304,\n",
       " '2flock': 1763,\n",
       " '2linear': 125692,\n",
       " 'Ingleton-Main condition': 27500,\n",
       " 'Quadratic imaginary number field representable': 284,\n",
       " 'Quaternion representable': 1104,\n",
       " 'Skew-field representable': 98,\n",
       " 'rational': 20469}"
      ]
     },
     "execution_count": 45,
     "metadata": {},
     "output_type": "execute_result"
    }
   ],
   "source": [
    "inspect(\"2algebraic certificate\",(5,9))"
   ]
  },
  {
   "cell_type": "code",
   "execution_count": 46,
   "metadata": {
    "collapsed": false
   },
   "outputs": [
    {
     "data": {
      "text/plain": [
       "{'-': 3, 'False': 1, 'True': 1271}"
      ]
     },
     "execution_count": 46,
     "metadata": {},
     "output_type": "execute_result"
    }
   ],
   "source": [
    "inspect(\"2algebraic\",(3,9))"
   ]
  },
  {
   "cell_type": "code",
   "execution_count": 47,
   "metadata": {
    "collapsed": false
   },
   "outputs": [
    {
     "data": {
      "text/plain": [
       "{'-': 3, 'False': 1, 'True': 1271}"
      ]
     },
     "execution_count": 47,
     "metadata": {},
     "output_type": "execute_result"
    }
   ],
   "source": [
    "inspect(\"2algebraic\",(6,9))"
   ]
  },
  {
   "cell_type": "code",
   "execution_count": 48,
   "metadata": {
    "collapsed": false
   },
   "outputs": [
    {
     "data": {
      "text/plain": [
       "{'-': 3, 'False': 40, 'True': 897}"
      ]
     },
     "execution_count": 48,
     "metadata": {},
     "output_type": "execute_result"
    }
   ],
   "source": [
    "inspect(\"2algebraic\",(4,8))"
   ]
  },
  {
   "cell_type": "code",
   "execution_count": 49,
   "metadata": {
    "collapsed": false
   },
   "outputs": [
    {
     "data": {
      "text/plain": [
       "[133, 731, 735]"
      ]
     },
     "execution_count": 49,
     "metadata": {},
     "output_type": "execute_result"
    }
   ],
   "source": [
    "#Find the indices of the matroids for which algebraicity is unknown [type (4,8)]\n",
    "inspect(\"2algebraic\",(4,8),onlySize=False)['-']"
   ]
  },
  {
   "cell_type": "code",
   "execution_count": 60,
   "metadata": {
    "collapsed": false
   },
   "outputs": [
    {
     "data": {
      "text/plain": [
       "{'2flock': True,\n",
       " '2flock certificate': ['circuit-hyperplane relaxation', 902],\n",
       " '2linear': False,\n",
       " '2linear certificate': 'Dress-Wenzel condition char 2',\n",
       " 'Dress-Wenzel condition': False,\n",
       " 'Dress-Wenzel condition char 2': False,\n",
       " 'Quadratic imaginary number field representable': False,\n",
       " 'Quadratic imaginary number field representable certificate': 'Dress-Wenzel condition',\n",
       " 'circuit-hyperplane relaxations': {11, 731, 732, 734, 735},\n",
       " 'circuit-hyperplane relaxed': {902},\n",
       " 'dual': 133,\n",
       " 'matroid': Matroid of rank 4 on 8 elements with 61 bases,\n",
       " 'minors r': {5, 28, 95},\n",
       " 'minors r-1': {65, 69, 103},\n",
       " 'principal minors r': set(),\n",
       " 'principal minors r-1': set(),\n",
       " 'rational': False,\n",
       " 'rational certificate': 'Dress-Wenzel condition'}"
      ]
     },
     "execution_count": 60,
     "metadata": {},
     "output_type": "execute_result"
    }
   ],
   "source": [
    "#Check an encyclopedia entry\n",
    "M[4,8][133]"
   ]
  },
  {
   "cell_type": "code",
   "execution_count": 50,
   "metadata": {
    "collapsed": false
   },
   "outputs": [
    {
     "data": {
      "text/plain": [
       "{'-': 0, 'False': 37988, 'True': 152226}"
      ]
     },
     "execution_count": 50,
     "metadata": {},
     "output_type": "execute_result"
    }
   ],
   "source": [
    "inspect(\"Dress-Wenzel condition\",(4,9))"
   ]
  },
  {
   "cell_type": "code",
   "execution_count": 51,
   "metadata": {
    "collapsed": false
   },
   "outputs": [
    {
     "data": {
      "text/plain": [
       "{'-': 0, 'False': 64395, 'True': 125819}"
      ]
     },
     "execution_count": 51,
     "metadata": {},
     "output_type": "execute_result"
    }
   ],
   "source": [
    "inspect(\"Dress-Wenzel condition char 2\",(4,9))"
   ]
  },
  {
   "cell_type": "code",
   "execution_count": 52,
   "metadata": {
    "collapsed": false
   },
   "outputs": [
    {
     "data": {
      "text/plain": [
       "{'-': 11811, 'False': 30756, 'True': 147647}"
      ]
     },
     "execution_count": 52,
     "metadata": {},
     "output_type": "execute_result"
    }
   ],
   "source": [
    "inspect(\"Ingleton-Main condition\",(4,9))"
   ]
  },
  {
   "cell_type": "code",
   "execution_count": 53,
   "metadata": {
    "collapsed": false
   },
   "outputs": [
    {
     "data": {
      "text/plain": [
       "{'-': 186595, '3': 1281, '4': 1753, '5': 487, '6': 98}"
      ]
     },
     "execution_count": 53,
     "metadata": {},
     "output_type": "execute_result"
    }
   ],
   "source": [
    "inspect(\"Ingleton-Main condition depth\",(4,9))"
   ]
  },
  {
   "cell_type": "code",
   "execution_count": 54,
   "metadata": {
    "collapsed": false
   },
   "outputs": [
    {
     "data": {
      "text/plain": [
       "{'-': 15067, 'False': 27500, 'True': 147647}"
      ]
     },
     "execution_count": 54,
     "metadata": {},
     "output_type": "execute_result"
    }
   ],
   "source": [
    "inspect(\"Ingleton-Main condition\",(5,9))"
   ]
  },
  {
   "cell_type": "code",
   "execution_count": 55,
   "metadata": {
    "collapsed": false
   },
   "outputs": [
    {
     "data": {
      "text/plain": [
       "{'-': 189851, '3': 7, '4': 298, '5': 58}"
      ]
     },
     "execution_count": 55,
     "metadata": {},
     "output_type": "execute_result"
    }
   ],
   "source": [
    "inspect(\"Ingleton-Main condition depth\",(5,9))"
   ]
  },
  {
   "cell_type": "code",
   "execution_count": 56,
   "metadata": {
    "collapsed": false
   },
   "outputs": [
    {
     "data": {
      "text/plain": [
       "{'-': 0, 'False': 1, 'True': 1274}"
      ]
     },
     "execution_count": 56,
     "metadata": {},
     "output_type": "execute_result"
    }
   ],
   "source": [
    "inspect(\"2flock\",(3,9))"
   ]
  },
  {
   "cell_type": "code",
   "execution_count": 57,
   "metadata": {
    "collapsed": false
   },
   "outputs": [
    {
     "data": {
      "text/plain": [
       "{'-': 0, 'False': 2, 'True': 938}"
      ]
     },
     "execution_count": 57,
     "metadata": {},
     "output_type": "execute_result"
    }
   ],
   "source": [
    "inspect(\"2flock\",(4,8))"
   ]
  },
  {
   "cell_type": "code",
   "execution_count": 58,
   "metadata": {
    "collapsed": false
   },
   "outputs": [
    {
     "data": {
      "text/plain": [
       "{'-': 317, 'False': 4551, 'True': 185346}"
      ]
     },
     "execution_count": 58,
     "metadata": {},
     "output_type": "execute_result"
    }
   ],
   "source": [
    "inspect(\"2flock\",(4,9))"
   ]
  },
  {
   "cell_type": "code",
   "execution_count": 59,
   "metadata": {
    "collapsed": false
   },
   "outputs": [
    {
     "data": {
      "text/plain": [
       "{'-': 315, 'False': 4551, 'True': 185348}"
      ]
     },
     "execution_count": 59,
     "metadata": {},
     "output_type": "execute_result"
    }
   ],
   "source": [
    "inspect(\"2flock\",(5,9))"
   ]
  }
 ],
 "metadata": {
  "kernelspec": {
   "display_name": "SageMath 7.5.1",
   "language": "",
   "name": "sagemath"
  },
  "language_info": {
   "codemirror_mode": {
    "name": "ipython",
    "version": 2
   },
   "file_extension": ".py",
   "mimetype": "text/x-python",
   "name": "python",
   "nbconvert_exporter": "python",
   "pygments_lexer": "ipython2",
   "version": "2.7.13"
  }
 },
 "nbformat": 4,
 "nbformat_minor": 0
}

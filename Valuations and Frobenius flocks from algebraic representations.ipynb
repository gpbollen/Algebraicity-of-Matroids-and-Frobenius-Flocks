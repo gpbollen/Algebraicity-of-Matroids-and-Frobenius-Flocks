{
 "cells": [
  {
   "cell_type": "code",
   "execution_count": null,
   "metadata": {
    "collapsed": true
   },
   "outputs": [],
   "source": []
  },
  {
   "cell_type": "code",
   "execution_count": 1,
   "metadata": {
    "collapsed": true
   },
   "outputs": [],
   "source": [
    "def makeIdeal(R, rep):\n",
    "    #Generates the ideal of the algebraic representation rep over R\n",
    "    variables = list(R.variable_names())\n",
    "    Field = R.base()\n",
    "    n = len(rep)\n",
    "    Yvars=['y%d' % i for i in range(n)]\n",
    "    Zvars=['z%d' % i for i in range(n)]\n",
    "    G = PolynomialRing(Field,variables + Yvars + Zvars)\n",
    "    F = G.fraction_field()\n",
    "    \n",
    "    denominators=[]\n",
    "    X = []\n",
    "    for i in range(len(rep)):\n",
    "        if F(rep[i]).denominator() != 1:\n",
    "            denominators.append(G(F(rep[i]).denominator())*G(Zvars[i]) - 1)\n",
    "            X.append(G(F(rep[i]).numerator()) * G(Zvars[i]) - G(Yvars[i]))\n",
    "        else:\n",
    "            X.append( G(rep[i]) - G(Yvars[i]))\n",
    "    id=G.ideal(X + denominators)\n",
    "    elid=id.elimination_ideal([G(v) for v in variables] + [G(v) for v in Zvars])\n",
    "    R = PolynomialRing(Field,Yvars);\n",
    "    phi=G.hom([0 for _ in variables] + [R(v) for v in Yvars] + [0 for _ in Zvars],R)\n",
    "    return phi(elid)\n",
    "\n",
    "def generateCircuitValuation(ideal):\n",
    "    #Computes the circuit valuation of an algebraic representation\n",
    "    elid = ideal\n",
    "    R = elid.ring()\n",
    "    n = R.ngens()\n",
    "    Yvars = R.gens()\n",
    "    coveredAll = False\n",
    "    circuits = []\n",
    "    circuitPolys = []\n",
    "    E = range(n);\n",
    "    for cl in range(1,n+1):\n",
    "        if coveredAll:\n",
    "            break\n",
    "        coveredAll = True\n",
    "        for ss in Subsets(n,cl):\n",
    "            s=frozenset([i-1 for i in ss])\n",
    "            checkss = True\n",
    "\n",
    "            for C in circuits:\n",
    "                if C.issubset(s):\n",
    "                    checkss = False\n",
    "                    break\n",
    "\n",
    "            if checkss:\n",
    "                coveredAll = False\n",
    "                Cvars = [Yvars[i-1] for i in ss]\n",
    "                nonCvars=[v for v in Yvars if v not in Cvars]\n",
    "                cId = elid.elimination_ideal([R(v) for v in nonCvars])\n",
    "                if cId.ngens() == 1:\n",
    "                    if cId.gens()[0] != 0:\n",
    "                        circuits.append(s)\n",
    "                        circuitPolys.append(cId.radical().gens()[0])\n",
    "    circuitValuation = {circuits[i] : circuitValue(circuitPolys[i],n) for i in range(len(circuits))}\n",
    "    circuitPolynomials = {circuits[i] : circuitPolys[i] for i in range(len(circuits))}\n",
    "    return circuitValuation, Matroid(circuits=circuits), circuitPolynomials\n",
    "            \n",
    "def circuitValue(cpoly,n):\n",
    "    char = cpoly.base_ring().base().characteristic()\n",
    "    exponents = cpoly.exponents()\n",
    "    return [min([valuation(ex[i],char) for ex in exponents]) for i in range(n)]\n",
    "    \n",
    "def cval_to_valuation(circuitValuation):\n",
    "    #Turns a circuit valuation into a basis valuation as in Murota/Tamura\n",
    "    circuits = [c for c in circuitValuation]\n",
    "    M = Matroid(circuits=circuits)\n",
    "    B0 = M.basis()\n",
    "    g = Graph([tuple(pair) for pair in Subsets([b for b in M.bases()],2) if isNeighbor(pair[0],pair[1])])\n",
    "    shortestPaths=g.shortest_paths(B0)\n",
    "    val = {}\n",
    "    val[B0] = 0\n",
    "    for B in M.bases():\n",
    "        if B != B0:\n",
    "            val[B] = val[B0]\n",
    "            basisPath = shortestPaths[B]\n",
    "            for i in range(len(basisPath)-1):\n",
    "                Bi = basisPath[i]\n",
    "                Bi1 = basisPath[i+1]\n",
    "                e = set(Bi.difference(Bi1)).pop()\n",
    "                f = set(Bi1.difference(Bi)).pop()\n",
    "                C = M.fundamental_circuit(Bi,f)\n",
    "                val[B] += circuitValuation[C][e] - circuitValuation[C][f]\n",
    "    return val\n",
    "\n",
    "def Lindstrom(I):\n",
    "    #Computes the Lindstrom valuation of the algebraic representation of the ideal I\n",
    "    cval, M, cp = generateCircuitValuation(I)\n",
    "    return M, cval_to_valuation(cval)\n",
    "\n",
    "def isNeighbor(B1,B2):\n",
    "    return len(B1.difference(B2))==1"
   ]
  },
  {
   "cell_type": "code",
   "execution_count": 2,
   "metadata": {
    "collapsed": true
   },
   "outputs": [],
   "source": [
    "from sage.matroids.advanced import *\n",
    "def centralPoints(val,M = None, dic=True, integral=True):\n",
    "    #Computes the central points of M^val\n",
    "    lp = MixedIntegerLinearProgram()\n",
    "    alpha = lp.new_variable()\n",
    "    if not M:\n",
    "        M = BasisMatroid(Matroid(bases = [B for B in val]))\n",
    "    E = M.groundset()\n",
    "    \n",
    "    #fix the order of the variables in lp by adding dummy constraints\n",
    "    for e in E:\n",
    "        lp.add_constraint(alpha[e]==0)\n",
    "        \n",
    "    #add the constraints\n",
    "    tau = {}\n",
    "    for e in E:\n",
    "        tau[e] = {B:1*(e in B) for B in val}\n",
    "    rho = {}\n",
    "    for B in val:\n",
    "        rho[B] = val[B] - sum([alpha[e]*tau[e][B] for e in E])\n",
    "        lp.add_constraint(rho[B] >= 0)\n",
    "    \n",
    "    #remove dummy constraints:\n",
    "    lp.remove_constraints(range(len(E)))\n",
    "    \n",
    "    #the central points are the vertices of the polyhedron of the linear program\n",
    "    pts = lp.polyhedron().vertices_list()\n",
    "    QQpts = [[QQ(v) for v in pt] for pt in pts]\n",
    "    \n",
    "    Ei = {}\n",
    "    i = 0\n",
    "    for e in E:\n",
    "        Ei[e] = i\n",
    "        i += 1\n",
    "    \n",
    "    #normalize points: smallest value 0 in each component\n",
    "    normPts = []\n",
    "    normPtsDict = []\n",
    "    comp = [J for J in M.components()]\n",
    "    indices = {J:sorted([Ei[j] for j in J]) for J in comp}\n",
    "    for pt in QQpts:\n",
    "        mins = {}\n",
    "        for J in comp:\n",
    "            minJ = min([pt[j] for j in indices[J]])\n",
    "            for e in J:\n",
    "                mins[e] = minJ\n",
    "        \n",
    "        #when the input valuation is integral, the central points are integral;\n",
    "        #we round to counteract machine errors\n",
    "        if integral:\n",
    "            normPts.append([round(pt[Ei[e]] - mins[e]) for e in E])\n",
    "            normPtsDict.append({e:round(pt[Ei[e]] - mins[e]) for e in E})\n",
    "        else:\n",
    "            normPts.append([pt[Ei[e]] - mins[e] for e in E])\n",
    "            normPtsDict.append({e:pt[Ei[e]] - mins[e] for e in E})\n",
    "    \n",
    "    if dic:\n",
    "        return normPtsDict\n",
    "    else:\n",
    "        return normPts\n",
    "        \n",
    "        \n",
    "def Balpha(M, val, alpha):\n",
    "    #Computes B^val_alpha\n",
    "    val2={ b: sum([alpha[i] for i in b])-val[b] for b in val}\n",
    "    m = max(val2.values())\n",
    "    Balpha=[b for b in val.keys() if val2[b]==m]\n",
    "    return Balpha\n",
    "\n",
    "\n",
    "def Malpha(M, val, alpha):\n",
    "    #Computes M^val_alpha\n",
    "    E= M.groundset()\n",
    "    B=Balpha(M,val, alpha)\n",
    "    return BasisMatroid(groundset=E, bases=B)"
   ]
  },
  {
   "cell_type": "code",
   "execution_count": 51,
   "metadata": {
    "collapsed": true
   },
   "outputs": [],
   "source": [
    "def FFlockPoint(I,alpha2,pt):\n",
    "    #input: an ideal I\n",
    "    #       alpha2 in Z^E\n",
    "    #       a general point pt of V(I)\n",
    "    #output: (-m 1)V_alpha2 and -m, where m = max(alpha2)\n",
    "    \n",
    "    #pick alpha nonpositive, so that the Frobenius action on pt is nonnegative:\n",
    "    m = max(alpha2)\n",
    "    alpha = [a-m for a in alpha2]\n",
    "    \n",
    "    R = I.ring()\n",
    "    F = R.base()\n",
    "    p = F.characteristic()\n",
    "    X = list(R.variable_names())\n",
    "    Y = [x + 'a' for x in X]\n",
    "    Ra = PolynomialRing(F,X+Y)\n",
    "    twists = []\n",
    "    for i in range(len(alpha)):\n",
    "        k = alpha[i]\n",
    "        twists.append(Ra(X[i])^(p^(-k)) - Ra(Y[i]))\n",
    "    \n",
    "    Ia = Ra.ideal([Ra(g) for g in I.gens()] + twists)\n",
    "    eI = Ia.elimination_ideal([Ra(x) for x in X])\n",
    "    R2 = PolynomialRing(F,Y)\n",
    "    A = AffineSpace(R2)\n",
    "    S = A.subscheme(eI)\n",
    "    Si = S.irreducible_components()[0]\n",
    "    mat = Si.Jacobian_matrix()\n",
    "    pta = [pt[i]^(p^(-alpha[i])) for i in range(len(alpha))]\n",
    "    return mat(pta).right_kernel_matrix(), -m\n",
    "    \n",
    "\n",
    "import random\n",
    "def findGeneralPoint(I,F,iters=1000000,includeZero=True):\n",
    "    #Randomly tries to find a general point of V(I) over a finite field F\n",
    "    n = len(I.ring().variable_names())\n",
    "    pts = [pt for pt in F]\n",
    "    if not includeZero:\n",
    "        pts.remove(0)\n",
    "    \n",
    "    M, val = Lindstrom(I)\n",
    "    \n",
    "    cpd = centralPoints(val, forceIntegral=True)\n",
    "    cp = [[pt[i] for i in pt] for pt in cpd]\n",
    "    \n",
    "    N={}\n",
    "    for alpha in cpd:\n",
    "        N[tuple([alpha[i] for i in alpha])] = Malpha(M,val,alpha)\n",
    "    \n",
    "    it = 0\n",
    "    \n",
    "    while it < iters:\n",
    "        it += 1\n",
    "        v = [random.choice(pts) for _ in range(n)]\n",
    "        \n",
    "        #check if v lies in the variety\n",
    "        inI = True\n",
    "        for g in I.gens():\n",
    "            if g(v) != 0:\n",
    "                inI = False\n",
    "                break\n",
    "        if not inI:\n",
    "            continue\n",
    "            \n",
    "        #check if v is general\n",
    "        goodV = True\n",
    "        for alpha in cp:\n",
    "            A, mm = FFlockPoint(I,alpha,v)\n",
    "            if not Matroid(matrix=A).is_isomorphic(N[tuple(alpha)]):\n",
    "                goodV = False\n",
    "                break\n",
    "        if goodV:\n",
    "            return v\n",
    "    print \"Not found in \"+ str(iters) +\" tries.\""
   ]
  },
  {
   "cell_type": "markdown",
   "metadata": {},
   "source": [
    "Examples:"
   ]
  },
  {
   "cell_type": "code",
   "execution_count": 4,
   "metadata": {
    "collapsed": true
   },
   "outputs": [],
   "source": [
    "F2=GF(2)\n",
    "F8= GF(8)\n",
    "z3 = F8.gen()\n",
    "R.<x,y,z> = PolynomialRing(F2)\n",
    "\n",
    "#An algebraic representation of Non-Pappus:\n",
    "NonPappusRep=[x,x+y,y,x+y+x*z/(x+y),z,x+y+y*z/(x+y),x*z,x*y+x*y*z/(x+y),y*z]\n",
    "NonPappusGenPt = [z3, z3^2 + 1, z3^2 + z3 + 1, z3^2, z3^2 + z3 + 1, z3 + 1, z3^2 + 1, z3, z3 + 1]"
   ]
  },
  {
   "cell_type": "code",
   "execution_count": 22,
   "metadata": {
    "collapsed": false
   },
   "outputs": [
    {
     "data": {
      "text/plain": [
       "[[[0, 0, 0, 0, 0, 0, 1, 1, 1],\n",
       "  (\n",
       "[            1        z3 + 1            z3          z3^2            z3     z3^2 + z3             0             0 z3^2 + z3 + 1]\n",
       "[            0             0             0             0             0             0             1             0 z3^2 + z3 + 1]\n",
       "[            0             0             0             0             0             0             0             1            z3],\n",
       "\n",
       "-1\n",
       ")],\n",
       " [[0, 0, 0, 0, 0, 0, 0, 0, 0],\n",
       "  (\n",
       "[            1             0             1             0     z3^2 + z3     z3^2 + z3             0          z3^2        z3 + 1]\n",
       "[            0             1             1             0            z3            z3          z3^2          z3^2            z3]\n",
       "[            0             0             0             1 z3^2 + z3 + 1     z3^2 + z3      z3^2 + 1 z3^2 + z3 + 1        z3 + 1],\n",
       "\n",
       "0\n",
       ")]]"
      ]
     },
     "execution_count": 22,
     "metadata": {},
     "output_type": "execute_result"
    }
   ],
   "source": [
    "I = makeIdeal(R,NonPappusRep)\n",
    "M, val = Lindstrom(I)\n",
    "cp = centralPoints(val,M,dic=False)\n",
    "#The central points of the Frobenius flock of NonPappusRep.\n",
    "[[alpha, FFlockPoint(I,alpha,NonPappusGenPt)] for alpha in cp]"
   ]
  },
  {
   "cell_type": "code",
   "execution_count": 29,
   "metadata": {
    "collapsed": true
   },
   "outputs": [],
   "source": [
    "F4=GF(4)\n",
    "L = F4.gen()\n",
    "S.<a,b,c> = PolynomialRing(F4)\n",
    "\n",
    "#Another algebraic representation of Non-Pappus:\n",
    "NonPappusRep2=[a^2+b,a,a+b,b+c,b+L*c,c,(L-1)*a^2+L*b+L*c,a^2+b+c-c^2,L*c-a]\n",
    "NonPappus2GenPt = [0,0,0,0,0,0,0,0,0]"
   ]
  },
  {
   "cell_type": "code",
   "execution_count": 30,
   "metadata": {
    "collapsed": false,
    "scrolled": true
   },
   "outputs": [
    {
     "data": {
      "text/plain": [
       "[[[0, 0, 0, 1, 0, 0, 1, 1, 0],\n",
       "  (\n",
       "[     1      0      1      0     z2      1      0      1 z2 + 1]    \n",
       "[     0      1      1      0      0      0 z2 + 1      1      1]    \n",
       "[     0      0      0      1      0      0     z2      1      0], -1\n",
       ")],\n",
       " [[0, 0, 0, 0, 0, 0, 0, 0, 0],\n",
       "  (\n",
       "[     1      0      1      0 z2 + 1      1      0      0     z2]   \n",
       "[     0      1      1      0      0      0      0      0      1]   \n",
       "[     0      0      0      1     z2      1     z2      1     z2], 0\n",
       ")],\n",
       " [[1, 0, 0, 1, 1, 1, 1, 1, 0],\n",
       "  (\n",
       "[     1      0      0      0 z2 + 1      1      0      0      0]    \n",
       "[     0      1      1      0 z2 + 1      1 z2 + 1      1      1]    \n",
       "[     0      0      0      1     z2      1     z2      1      0], -1\n",
       ")]]"
      ]
     },
     "execution_count": 30,
     "metadata": {},
     "output_type": "execute_result"
    }
   ],
   "source": [
    "I = makeIdeal(S,NonPappusRep2)\n",
    "M, val = Lindstrom(I)\n",
    "cp = centralPoints(val,M,dic=False)\n",
    "\n",
    "#The central points of the Frobenius flock of NonPappusRep2.\n",
    "[[alpha, FFlockPoint(I,alpha,NonPappus2GenPt)] for alpha in cp]"
   ]
  },
  {
   "cell_type": "code",
   "execution_count": 75,
   "metadata": {
    "collapsed": true
   },
   "outputs": [],
   "source": [
    "T.<x,y,z,u> = PolynomialRing(F4)\n",
    "\n",
    "#An algebraic representation of a matroid by Lindstrom\n",
    "grid=[x+y+z+u,x^2+y+z^2+u,y,x^2+y,z,u,L*(x+y)+z+u,L*x+z]"
   ]
  },
  {
   "cell_type": "code",
   "execution_count": 76,
   "metadata": {
    "collapsed": false
   },
   "outputs": [],
   "source": [
    "I = makeIdeal(T,grid)\n",
    "M, val = Lindstrom(I)\n",
    "cp = centralPoints(val,M,dic=False)"
   ]
  },
  {
   "cell_type": "code",
   "execution_count": 77,
   "metadata": {
    "collapsed": false
   },
   "outputs": [],
   "source": [
    "genpt = findGeneralPoint(I,GF(2))"
   ]
  },
  {
   "cell_type": "code",
   "execution_count": 78,
   "metadata": {
    "collapsed": false
   },
   "outputs": [
    {
     "data": {
      "text/plain": [
       "[[[0, 0, 0, 0, 0, 0, 0, 0],\n",
       "  (\n",
       "[     1      0      0      0      0      0     z2     z2]   \n",
       "[     0      1      0      0      0      1 z2 + 1     z2]   \n",
       "[     0      0      1      1      0      1 z2 + 1      0]   \n",
       "[     0      0      0      0      1      0 z2 + 1 z2 + 1], 0\n",
       ")],\n",
       " [[0, 1, 1, 1, 0, 1, 0, 0],\n",
       "  (\n",
       "[ 1  0  0  0  1  1  1  1]    \n",
       "[ 0  1  0  0  0  1  0  0]    \n",
       "[ 0  0  1  0  1  1 z2 z2]    \n",
       "[ 0  0  0  1  1  0 z2 z2], -1\n",
       ")],\n",
       " [[0, 0, 1, 1, 0, 0, 0, 0],\n",
       "  (\n",
       "[ 1  0  0  0  1  0  1  1]    \n",
       "[ 0  1  0  0  1  1  0  1]    \n",
       "[ 0  0  1  0  1  0 z2 z2]    \n",
       "[ 0  0  0  1  1  0 z2 z2], -1\n",
       ")],\n",
       " [[0, 1, 1, 1, 0, 1, 1, 1],\n",
       "  (\n",
       "[     1      0      0 z2 + 1     z2      1      0      1]    \n",
       "[     0      1      0      0      0      1      0      1]    \n",
       "[     0      0      1      1      0      1      0 z2 + 1]    \n",
       "[     0      0      0      0      0      0      1      1], -1\n",
       ")]]"
      ]
     },
     "execution_count": 78,
     "metadata": {},
     "output_type": "execute_result"
    }
   ],
   "source": [
    "[[alpha, FFlockPoint(I,alpha,genpt)] for alpha in cp]"
   ]
  },
  {
   "cell_type": "code",
   "execution_count": 70,
   "metadata": {
    "collapsed": false
   },
   "outputs": [],
   "source": [
    "U.<x,y,z,u> = PolynomialRing(F4)\n",
    "\n",
    "#An algebraic representation of another matroid by Lindstrom\n",
    "cube=[x^2+y+z^2+u,y,x^2+y,z,L*(x+y)+z+u,L*x+z,y+u,z+u]"
   ]
  },
  {
   "cell_type": "code",
   "execution_count": 71,
   "metadata": {
    "collapsed": true
   },
   "outputs": [],
   "source": [
    "I = makeIdeal(U,cube)\n",
    "M, val = Lindstrom(I)\n",
    "cp = centralPoints(val,M,dic=False)"
   ]
  },
  {
   "cell_type": "code",
   "execution_count": 72,
   "metadata": {
    "collapsed": false
   },
   "outputs": [],
   "source": [
    "genpt = findGeneralPoint(I,GF(2))"
   ]
  },
  {
   "cell_type": "code",
   "execution_count": 73,
   "metadata": {
    "collapsed": false
   },
   "outputs": [
    {
     "data": {
      "text/plain": [
       "[[[1, 0, 0, 0, 0, 0, 1, 0],\n",
       "  (\n",
       "[     1      0      0      0      0      0      1      0]    \n",
       "[     0      1      1      0      0     z2 z2 + 1      1]    \n",
       "[     0      0      0      1      0      0 z2 + 1      1]    \n",
       "[     0      0      0      0      1      1     z2      0], -1\n",
       ")],\n",
       " [[0, 0, 0, 0, 0, 0, 0, 0],\n",
       "  (\n",
       "[     1      0      0      0      0      1      1      1]   \n",
       "[     0      1      1      0      0 z2 + 1      0      1]   \n",
       "[     0      0      0      1      0      0      0      1]   \n",
       "[     0      0      0      0      1      1      0      0], 0\n",
       ")],\n",
       " [[1, 1, 1, 0, 1, 1, 1, 0],\n",
       "  (\n",
       "[     1      0      0      0      0      1      1      0]    \n",
       "[     0      1      0 z2 + 1      0      1     z2 z2 + 1]    \n",
       "[     0      0      1 z2 + 1      0     z2     z2 z2 + 1]    \n",
       "[     0      0      0      0      1      1      0      0], -1\n",
       ")],\n",
       " [[1, 1, 1, 0, 0, 0, 1, 0],\n",
       "  (\n",
       "[     1      0      0      0      0      0      1      0]    \n",
       "[     0      1      0      0 z2 + 1 z2 + 1      1      0]    \n",
       "[     0      0      1      0 z2 + 1 z2 + 1      1      0]    \n",
       "[     0      0      0      1      1      1      1      1], -1\n",
       ")],\n",
       " [[0, 1, 1, 0, 0, 0, 0, 0],\n",
       "  (\n",
       "[     1      0      0      0      1      0      1      1]    \n",
       "[     0      1      0      0 z2 + 1 z2 + 1      0      0]    \n",
       "[     0      0      1      0 z2 + 1 z2 + 1      0      0]    \n",
       "[     0      0      0      1      1      1      0      1], -1\n",
       ")],\n",
       " [[1, 1, 1, 1, 0, 0, 1, 1],\n",
       "  (\n",
       "[     1      0      0      0      0      0      1      1]    \n",
       "[     0      1      0      0 z2 + 1 z2 + 1      1      0]    \n",
       "[     0      0      1      0 z2 + 1 z2 + 1      1      1]    \n",
       "[     0      0      0      1      0      0      0      1], -1\n",
       ")]]"
      ]
     },
     "execution_count": 73,
     "metadata": {},
     "output_type": "execute_result"
    }
   ],
   "source": [
    "[[alpha, FFlockPoint(I,alpha,genpt)] for alpha in cp]"
   ]
  }
 ],
 "metadata": {
  "kernelspec": {
   "display_name": "SageMath 7.5.1",
   "language": "",
   "name": "sagemath"
  },
  "language_info": {
   "codemirror_mode": {
    "name": "ipython",
    "version": 2
   },
   "file_extension": ".py",
   "mimetype": "text/x-python",
   "name": "python",
   "nbconvert_exporter": "python",
   "pygments_lexer": "ipython2",
   "version": "2.7.13"
  }
 },
 "nbformat": 4,
 "nbformat_minor": 0
}

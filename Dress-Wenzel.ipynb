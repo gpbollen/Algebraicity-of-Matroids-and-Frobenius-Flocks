{
 "cells": [
  {
   "cell_type": "code",
   "execution_count": 1,
   "metadata": {
    "collapsed": true
   },
   "outputs": [],
   "source": [
    "#code by Rudi Pendavingh\n",
    "class TutteGroup:\n",
    "    def __init__(self,M,char2=False):\n",
    "        if char2:\n",
    "            R = [{frozenset():1}]\n",
    "        else:\n",
    "            R = [{frozenset():2}]\n",
    "        for X in M.nonbases():\n",
    "            if M.rank(X)==M.full_rank()-1: \n",
    "                C=set(M.circuit(X))\n",
    "                D=set(M.cocircuit(M.groundset()-X))\n",
    "                e = C.pop()\n",
    "                f = D.pop()\n",
    "                for g in C:\n",
    "                    for h in D:\n",
    "                        R.append(self.cross_ratio(X-set([e,g]),e,g,f,h))\n",
    "        B = list(M.bases())\n",
    "        idx = {B[i] : i for i in range(len(B))}\n",
    "        idx[frozenset()] = len(B)\n",
    "        T  = matrix(ZZ, len(R)+1,len(B)+1)\n",
    "        for i in range(len(R)):\n",
    "            for X, e in R[i].iteritems():\n",
    "                T[i, idx[X]]=e  \n",
    "    \n",
    "        TT = T.hermite_form(include_zero_rows=False)\n",
    "        \n",
    "        self._M = M\n",
    "        self._bases = B\n",
    "        self._idx = idx\n",
    "        self._piv = TT.pivots()\n",
    "        self._tr = TT.nrows()\n",
    "        self._TT = TT.stack(vector(ZZ,TT.ncols())).sparse_matrix()\n",
    "        self._free=frozenset([B[i] for i in range(self._TT.ncols()-1) if T.column(i).is_zero()])\n",
    "        \n",
    "    def __repr__(self):\n",
    "        return 'Tutte group of ' + repr(self._M)\n",
    "      \n",
    "    def cross_ratio(self,I,a,b,c,d):\n",
    "        s=0\n",
    "        if a<c:\n",
    "            s+=1\n",
    "        if c<b:\n",
    "            s+=1\n",
    "        if b<d:\n",
    "            s+=1\n",
    "        if d<a:\n",
    "            s+=1\n",
    "        return {I|set([a,c]):1, I|set([b,d]):1, I|set([a,d]):-1, I|set([b,c]):-1, frozenset():s%2}\n",
    "    \n",
    "    def is_zero(self, t):\n",
    "        for B in t.keys():\n",
    "            if B in self._free:\n",
    "                return False\n",
    "        r = self._tr\n",
    "        for X, e in t.iteritems():\n",
    "            self._TT[r, self._idx[X]]=e\n",
    "        i = 0\n",
    "        jj = 0\n",
    "        for j in self._piv:\n",
    "            if self._TT[r, j]:\n",
    "                if self._TT[r,j]%self._TT[i,j]:\n",
    "                    self._TT.set_row_to_multiple_of_row(r,r,0)\n",
    "                    return False\n",
    "                self._TT.add_multiple_of_row(r, i, -self._TT[r,j]//self._TT[i,j])   \n",
    "            i += 1\n",
    "        if not self._TT.row(r).is_zero():\n",
    "            self._TT.set_row_to_multiple_of_row(r,r,0)\n",
    "            return False\n",
    "        return True \n",
    "   \n",
    "    def cross_ratios(self):\n",
    "        if self._M.full_rank()<2 or self._M.full_corank()<2:\n",
    "            return\n",
    "        for F in self._M.flats(self._M.full_rank()-2):\n",
    "            H = []\n",
    "            G = set(self._M.groundset()-F)\n",
    "            while G:\n",
    "                e = G.pop()\n",
    "                H.append(e)\n",
    "                G = G-self._M.closure(F|set([e]))\n",
    "            \n",
    "            if len(H)<4:\n",
    "                continue\n",
    "            \n",
    "            I = self._M.max_independent(F)\n",
    "            for i in range(len(H)):\n",
    "                a=H[i]\n",
    "                for j in range(i):\n",
    "                    b=H[j]\n",
    "                    for k in range(j):\n",
    "                        c=H[k]\n",
    "                        for l in range(k):\n",
    "                            d=H[l]\n",
    "                            yield self.cross_ratio(I,a,b,c,d)\n",
    "                            yield self.cross_ratio(I,a,c,b,d)\n",
    "                            yield self.cross_ratio(I,a,d,b,c)          \n",
    "    \n",
    "    def DW_condition(self):\n",
    "        for cr in self.cross_ratios():\n",
    "            if self.is_zero(cr):\n",
    "                return False\n",
    "        return True"
   ]
  },
  {
   "cell_type": "code",
   "execution_count": 5,
   "metadata": {
    "collapsed": false
   },
   "outputs": [],
   "source": [
    "T = TutteGroup(matroids.named_matroids.TicTacToe())"
   ]
  },
  {
   "cell_type": "code",
   "execution_count": 6,
   "metadata": {
    "collapsed": false
   },
   "outputs": [
    {
     "data": {
      "text/plain": [
       "False"
      ]
     },
     "execution_count": 6,
     "metadata": {},
     "output_type": "execute_result"
    }
   ],
   "source": [
    "T.DW_condition()"
   ]
  },
  {
   "cell_type": "code",
   "execution_count": 12,
   "metadata": {
    "collapsed": true
   },
   "outputs": [],
   "source": [
    "T = TutteGroup(matroids.named_matroids.NonFano(),True)"
   ]
  },
  {
   "cell_type": "code",
   "execution_count": 13,
   "metadata": {
    "collapsed": false
   },
   "outputs": [
    {
     "data": {
      "text/plain": [
       "False"
      ]
     },
     "execution_count": 13,
     "metadata": {},
     "output_type": "execute_result"
    }
   ],
   "source": [
    "T.DW_condition()"
   ]
  },
  {
   "cell_type": "code",
   "execution_count": 10,
   "metadata": {
    "collapsed": true
   },
   "outputs": [],
   "source": [
    "T = TutteGroup(matroids.named_matroids.NonFano(),False)"
   ]
  },
  {
   "cell_type": "code",
   "execution_count": 11,
   "metadata": {
    "collapsed": false
   },
   "outputs": [
    {
     "data": {
      "text/plain": [
       "True"
      ]
     },
     "execution_count": 11,
     "metadata": {},
     "output_type": "execute_result"
    }
   ],
   "source": [
    "T.DW_condition()"
   ]
  }
 ],
 "metadata": {
  "kernelspec": {
   "display_name": "SageMath 7.5.1",
   "language": "",
   "name": "sagemath"
  },
  "language_info": {
   "codemirror_mode": {
    "name": "ipython",
    "version": 2
   },
   "file_extension": ".py",
   "mimetype": "text/x-python",
   "name": "python",
   "nbconvert_exporter": "python",
   "pygments_lexer": "ipython2",
   "version": "2.7.13"
  }
 },
 "nbformat": 4,
 "nbformat_minor": 0
}

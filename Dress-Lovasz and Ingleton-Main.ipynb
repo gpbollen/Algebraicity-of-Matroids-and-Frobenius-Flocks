{
 "cells": [
  {
   "cell_type": "code",
   "execution_count": 1,
   "metadata": {
    "collapsed": true
   },
   "outputs": [],
   "source": [
    "def DoubleCircuits(M,IngletonMain=False):\n",
    "    #input: a matroid M\n",
    "    #       a boolean indicating whether Ingleton-Main is checked or not (then Dress-Lovasz is checked)\n",
    "    #output: for each double circuit CC:\n",
    "    #          the double circuit degree d, \n",
    "    #          the number of points to be added to the intersection\n",
    "    #          the circuit closures of the double circuit\n",
    "    #          the intersection of these circuits\n",
    "    Md = M.dual()\n",
    "    for F in Md.flats(Md.full_rank() - 2):\n",
    "        Mdm = Md.contract(F)\n",
    "        d=Mdm.simplify().size()\n",
    "        if IngletonMain:\n",
    "            goodDegree = (d == 3)\n",
    "        else:\n",
    "            goodDegree = (d >= 3)\n",
    "        if goodDegree:\n",
    "            circs = [M.closure(C) for C in Mdm.cocircuits()]\n",
    "            inter = M.groundset()\n",
    "            for C in circs:\n",
    "                inter = inter.intersection(C)\n",
    "            ir = M.rank(inter)\n",
    "            if d-2 - ir <= 0:\n",
    "                continue\n",
    "            yield d, circs, inter"
   ]
  },
  {
   "cell_type": "code",
   "execution_count": 2,
   "metadata": {
    "collapsed": true
   },
   "outputs": [],
   "source": [
    "def DressLovaszExtensions(M, CC):\n",
    "    #input: a matroid M\n",
    "    #       a list of circuit closures CC\n",
    "    #output: all matroid extensions of M by i such that i lies in all circuit closures of CC\n",
    "    E = M.groundset()\n",
    "    i = -1\n",
    "    goodExt = True\n",
    "    while i in E:\n",
    "        i -= 1\n",
    "    \n",
    "    return M.extensions(element=i,subsets=[list(c) for c in CC if len(c) < M.size()]), i\n",
    "\n",
    "def RecursiveDressLovaszCondition(M,depth=1,IngletonMain=False):\n",
    "    #input: a matroid M\n",
    "    #       an integer depth\n",
    "    #       a boolean indicating whether Ingleton-Main is checked or not (then Dress-Lovasz is checked)\n",
    "    #output: the Dress-Lovasz (or Ingleton-Main) condition at depth 'depth' for M\n",
    "    \n",
    "    if depth==0:\n",
    "        return True\n",
    "    \n",
    "    it = 0\n",
    "    for dCC in DoubleCircuits(M,IngletonMain):\n",
    "        d, CC, inter = dCC\n",
    "        DLE, i = DressLovaszExtensions(M,CC)\n",
    "        goodCC = False\n",
    "        for N in DLE:\n",
    "            if N.rank(inter.union([i])) == N.rank(inter):\n",
    "                continue\n",
    "            if RecursiveDressLovaszCondition(N,depth-1):\n",
    "                goodCC = True\n",
    "                break\n",
    "        if not goodCC:\n",
    "            return False\n",
    "    return True"
   ]
  },
  {
   "cell_type": "code",
   "execution_count": 3,
   "metadata": {
    "collapsed": true
   },
   "outputs": [],
   "source": [
    "M = matroids.named_matroids.TicTacToe()\n",
    "Md = M.dual()"
   ]
  },
  {
   "cell_type": "code",
   "execution_count": 4,
   "metadata": {
    "collapsed": false
   },
   "outputs": [
    {
     "data": {
      "text/plain": [
       "True"
      ]
     },
     "execution_count": 4,
     "metadata": {},
     "output_type": "execute_result"
    }
   ],
   "source": [
    "RecursiveDressLovaszCondition(M)"
   ]
  },
  {
   "cell_type": "code",
   "execution_count": 9,
   "metadata": {
    "collapsed": false
   },
   "outputs": [
    {
     "data": {
      "text/plain": [
       "0"
      ]
     },
     "execution_count": 9,
     "metadata": {},
     "output_type": "execute_result"
    }
   ],
   "source": [
    "len([CC for CC in DoubleCircuits(M)])"
   ]
  },
  {
   "cell_type": "code",
   "execution_count": 10,
   "metadata": {
    "collapsed": false
   },
   "outputs": [
    {
     "name": "stdout",
     "output_type": "stream",
     "text": [
      "CPU times: user 160 ms, sys: 0 ns, total: 160 ms\n",
      "Wall time: 167 ms\n"
     ]
    },
    {
     "data": {
      "text/plain": [
       "True"
      ]
     },
     "execution_count": 10,
     "metadata": {},
     "output_type": "execute_result"
    }
   ],
   "source": [
    "%%time\n",
    "RecursiveDressLovaszCondition(Md)"
   ]
  },
  {
   "cell_type": "code",
   "execution_count": 11,
   "metadata": {
    "collapsed": false
   },
   "outputs": [
    {
     "name": "stdout",
     "output_type": "stream",
     "text": [
      "CPU times: user 641 ms, sys: 0 ns, total: 641 ms\n",
      "Wall time: 651 ms\n"
     ]
    },
    {
     "data": {
      "text/plain": [
       "False"
      ]
     },
     "execution_count": 11,
     "metadata": {},
     "output_type": "execute_result"
    }
   ],
   "source": [
    "%%time\n",
    "RecursiveDressLovaszCondition(Md,3)"
   ]
  },
  {
   "cell_type": "code",
   "execution_count": null,
   "metadata": {
    "collapsed": true
   },
   "outputs": [],
   "source": []
  }
 ],
 "metadata": {
  "kernelspec": {
   "display_name": "SageMath 7.5.1",
   "language": "",
   "name": "sagemath"
  },
  "language_info": {
   "codemirror_mode": {
    "name": "ipython",
    "version": 2
   },
   "file_extension": ".py",
   "mimetype": "text/x-python",
   "name": "python",
   "nbconvert_exporter": "python",
   "pygments_lexer": "ipython2",
   "version": "2.7.13"
  }
 },
 "nbformat": 4,
 "nbformat_minor": 0
}
